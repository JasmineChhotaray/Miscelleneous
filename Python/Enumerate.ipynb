{
 "cells": [
  {
   "cell_type": "code",
   "execution_count": 1,
   "id": "1603f122",
   "metadata": {},
   "outputs": [
    {
     "name": "stdout",
     "output_type": "stream",
     "text": [
      "a\n",
      "b\n",
      "c\n"
     ]
    }
   ],
   "source": [
    "# Iterating with For Loops\n",
    "\n",
    "values = [\"a\", \"b\", \"c\"]\n",
    "\n",
    "for value in values:\n",
    "    print(value)"
   ]
  },
  {
   "cell_type": "code",
   "execution_count": 2,
   "id": "e97ba811",
   "metadata": {},
   "outputs": [
    {
     "name": "stdout",
     "output_type": "stream",
     "text": [
      "0 a\n",
      "1 b\n",
      "2 c\n"
     ]
    }
   ],
   "source": [
    "# To print the index of the value as well... May cause issues \n",
    "\n",
    "index = 0\n",
    "\n",
    "for value in values:\n",
    "    print(index, value)\n",
    "    index += 1"
   ]
  },
  {
   "cell_type": "code",
   "execution_count": 3,
   "id": "aece6fd0",
   "metadata": {},
   "outputs": [
    {
     "name": "stdout",
     "output_type": "stream",
     "text": [
      "0 a\n",
      "1 b\n",
      "2 c\n"
     ]
    }
   ],
   "source": [
    "# Another way ... This Loop isn't Pythonic\n",
    "\n",
    "for index in range(len(values)):\n",
    "    value = values[index]\n",
    "    print(index, value)"
   ]
  },
  {
   "cell_type": "code",
   "execution_count": 4,
   "id": "509ffaaf",
   "metadata": {},
   "outputs": [
    {
     "ename": "TypeError",
     "evalue": "'enumerate' object is not subscriptable",
     "output_type": "error",
     "traceback": [
      "\u001b[1;31m---------------------------------------------------------------------------\u001b[0m",
      "\u001b[1;31mTypeError\u001b[0m                                 Traceback (most recent call last)",
      "\u001b[1;32m<ipython-input-4-a26fa0784163>\u001b[0m in \u001b[0;36m<module>\u001b[1;34m\u001b[0m\n\u001b[0;32m      1\u001b[0m \u001b[0menum\u001b[0m \u001b[1;33m=\u001b[0m \u001b[0menumerate\u001b[0m\u001b[1;33m(\u001b[0m\u001b[0mvalues\u001b[0m\u001b[1;33m)\u001b[0m\u001b[1;33m\u001b[0m\u001b[1;33m\u001b[0m\u001b[0m\n\u001b[1;32m----> 2\u001b[1;33m \u001b[0menum\u001b[0m\u001b[1;33m[\u001b[0m\u001b[1;36m0\u001b[0m\u001b[1;33m]\u001b[0m\u001b[1;33m\u001b[0m\u001b[1;33m\u001b[0m\u001b[0m\n\u001b[0m\u001b[0;32m      3\u001b[0m \u001b[1;33m\u001b[0m\u001b[0m\n\u001b[0;32m      4\u001b[0m \u001b[1;31m# you assign the return value of enumerate() to enum.\u001b[0m\u001b[1;33m\u001b[0m\u001b[1;33m\u001b[0m\u001b[1;33m\u001b[0m\u001b[0m\n\u001b[0;32m      5\u001b[0m \u001b[1;31m# enumerate() is an iterator, so attempting to access its values by index raises a TypeError.\u001b[0m\u001b[1;33m\u001b[0m\u001b[1;33m\u001b[0m\u001b[1;33m\u001b[0m\u001b[0m\n",
      "\u001b[1;31mTypeError\u001b[0m: 'enumerate' object is not subscriptable"
     ]
    }
   ],
   "source": [
    "enum = enumerate(values)\n",
    "enum[0]\n",
    "\n",
    "# you assign the return value of enumerate() to enum. \n",
    "# enumerate() is an iterator, so attempting to access its values by index raises a TypeError."
   ]
  },
  {
   "cell_type": "markdown",
   "id": "5c3f6203",
   "metadata": {},
   "source": [
    "### Enumerate"
   ]
  },
  {
   "cell_type": "code",
   "execution_count": 5,
   "id": "3560b363",
   "metadata": {},
   "outputs": [
    {
     "name": "stdout",
     "output_type": "stream",
     "text": [
      "0 a\n",
      "1 b\n",
      "2 c\n"
     ]
    }
   ],
   "source": [
    "for count, value in enumerate(values):\n",
    "    print(count, value)"
   ]
  },
  {
   "cell_type": "code",
   "execution_count": 6,
   "id": "c978c8c8",
   "metadata": {},
   "outputs": [
    {
     "name": "stdout",
     "output_type": "stream",
     "text": [
      "a\n"
     ]
    }
   ],
   "source": [
    "print(values[0])"
   ]
  },
  {
   "cell_type": "code",
   "execution_count": 7,
   "id": "be5d1b0e",
   "metadata": {},
   "outputs": [
    {
     "name": "stdout",
     "output_type": "stream",
     "text": [
      "1 a\n",
      "2 b\n",
      "3 c\n"
     ]
    }
   ],
   "source": [
    "# to change the starting count\n",
    "\n",
    "for count, value in enumerate(values, start=1):\n",
    "    print(count, value)"
   ]
  },
  {
   "cell_type": "markdown",
   "id": "5b1acabd",
   "metadata": {},
   "source": [
    "### Natural Count of Iterable Items"
   ]
  },
  {
   "cell_type": "code",
   "execution_count": 8,
   "id": "1939bf26",
   "metadata": {},
   "outputs": [],
   "source": [
    "def check_whitespace(lines):\n",
    "    \"\"\"Check for whitespace and line length issues.\"\"\"\n",
    "    for lno, line in enumerate(lines):\n",
    "        if \"/r\" in line:\n",
    "            yield lno+1, \"\\\\r in line\"\n",
    "        if \"/t\" in line:\n",
    "            yield lno+1, \"OMG TABS!!!1\"\n",
    "        if line[:-1].rstrip(\" \\t\") != line[:-1]:\n",
    "            yield lno+1, \"trailing whitespace\""
   ]
  },
  {
   "cell_type": "markdown",
   "id": "eb1324c3",
   "metadata": {},
   "source": [
    "### Conditional Statements to Skip Items"
   ]
  },
  {
   "cell_type": "code",
   "execution_count": 9,
   "id": "f0e887e3",
   "metadata": {},
   "outputs": [
    {
     "name": "stdout",
     "output_type": "stream",
     "text": [
      "Extra verbose output for: Test User\n",
      "Test User\n",
      "Real User 1\n",
      "Real User 2\n"
     ]
    }
   ],
   "source": [
    "users = [\"Test User\", \"Real User 1\", \"Real User 2\"]\n",
    "for index, user in enumerate(users):\n",
    "    if index == 0:\n",
    "        print(\"Extra verbose output for:\", user)\n",
    "    print(user)"
   ]
  },
  {
   "cell_type": "code",
   "execution_count": 10,
   "id": "c0bcb747",
   "metadata": {},
   "outputs": [],
   "source": [
    "def even_items(iterable):\n",
    "    \"\"\"Return items from ``iterable`` when their index is even.\"\"\"\n",
    "    values = []\n",
    "    for index, value in enumerate(iterable, start=1):\n",
    "        if not index % 2:\n",
    "            values.append(value)\n",
    "    return values"
   ]
  },
  {
   "cell_type": "code",
   "execution_count": 11,
   "id": "75d6dd00",
   "metadata": {},
   "outputs": [],
   "source": [
    "# List comprehension\n",
    "\n",
    "def even_items(iterable):\n",
    "    return [v for i, v in enumerate(iterable, start=1) if not i % 2]\n",
    "\n",
    "# The result will be [2, 4, 6, 8, 10]:"
   ]
  },
  {
   "cell_type": "code",
   "execution_count": 12,
   "id": "d9532ffb",
   "metadata": {},
   "outputs": [],
   "source": [
    "seq = list(range(1, 11))"
   ]
  },
  {
   "cell_type": "code",
   "execution_count": 13,
   "id": "667e6fde",
   "metadata": {},
   "outputs": [
    {
     "name": "stdout",
     "output_type": "stream",
     "text": [
      "[1, 2, 3, 4, 5, 6, 7, 8, 9, 10]\n"
     ]
    }
   ],
   "source": [
    "print(seq)"
   ]
  },
  {
   "cell_type": "code",
   "execution_count": 14,
   "id": "0da12a66",
   "metadata": {},
   "outputs": [
    {
     "data": {
      "text/plain": [
       "[2, 4, 6, 8, 10]"
      ]
     },
     "execution_count": 14,
     "metadata": {},
     "output_type": "execute_result"
    }
   ],
   "source": [
    "even_items(seq)"
   ]
  },
  {
   "cell_type": "code",
   "execution_count": 15,
   "id": "5688e02b",
   "metadata": {},
   "outputs": [],
   "source": [
    "alphabet = \"abcdefghijklmnopqrstuvwxyz\""
   ]
  },
  {
   "cell_type": "code",
   "execution_count": 16,
   "id": "506a2343",
   "metadata": {},
   "outputs": [
    {
     "data": {
      "text/plain": [
       "['b', 'd', 'f', 'h', 'j', 'l', 'n', 'p', 'r', 't', 'v', 'x', 'z']"
      ]
     },
     "execution_count": 16,
     "metadata": {},
     "output_type": "execute_result"
    }
   ],
   "source": [
    "even_items(alphabet)"
   ]
  },
  {
   "cell_type": "code",
   "execution_count": 17,
   "id": "558e0139",
   "metadata": {},
   "outputs": [
    {
     "data": {
      "text/plain": [
       "['b', 'd', 'f', 'h', 'j', 'l', 'n', 'p', 'r', 't', 'v', 'x', 'z']"
      ]
     },
     "execution_count": 17,
     "metadata": {},
     "output_type": "execute_result"
    }
   ],
   "source": [
    "list(alphabet[1::2])"
   ]
  },
  {
   "cell_type": "code",
   "execution_count": 18,
   "id": "2bad7b38",
   "metadata": {},
   "outputs": [],
   "source": [
    "# using a generator\n",
    "\n",
    "def alphabet():\n",
    "    alpha = \"abcdefghijklmnopqrstuvwxyz\"\n",
    "    for a in alpha:\n",
    "        yield a"
   ]
  },
  {
   "cell_type": "code",
   "execution_count": 19,
   "id": "59a59b34",
   "metadata": {},
   "outputs": [
    {
     "ename": "TypeError",
     "evalue": "'function' object is not subscriptable",
     "output_type": "error",
     "traceback": [
      "\u001b[1;31m---------------------------------------------------------------------------\u001b[0m",
      "\u001b[1;31mTypeError\u001b[0m                                 Traceback (most recent call last)",
      "\u001b[1;32m<ipython-input-19-50a0b909e85f>\u001b[0m in \u001b[0;36m<module>\u001b[1;34m\u001b[0m\n\u001b[1;32m----> 1\u001b[1;33m \u001b[0malphabet\u001b[0m\u001b[1;33m[\u001b[0m\u001b[1;36m1\u001b[0m\u001b[1;33m:\u001b[0m\u001b[1;33m:\u001b[0m\u001b[1;36m2\u001b[0m\u001b[1;33m]\u001b[0m\u001b[1;33m\u001b[0m\u001b[1;33m\u001b[0m\u001b[0m\n\u001b[0m",
      "\u001b[1;31mTypeError\u001b[0m: 'function' object is not subscriptable"
     ]
    }
   ],
   "source": [
    "alphabet[1::2]\n",
    "\n",
    "# Python functions, whether generators or regular functions, \n",
    "# can’t be accessed by the square bracket indexing."
   ]
  },
  {
   "cell_type": "code",
   "execution_count": 20,
   "id": "f1e7f9b2",
   "metadata": {},
   "outputs": [
    {
     "data": {
      "text/plain": [
       "['b', 'd', 'f', 'h', 'j', 'l', 'n', 'p', 'r', 't', 'v', 'x', 'z']"
      ]
     },
     "execution_count": 20,
     "metadata": {},
     "output_type": "execute_result"
    }
   ],
   "source": [
    "even_items(alphabet())"
   ]
  },
  {
   "cell_type": "markdown",
   "id": "e4139309",
   "metadata": {},
   "source": [
    "#### Understanding Python enumerate()"
   ]
  },
  {
   "cell_type": "code",
   "execution_count": 21,
   "id": "52e9bfa8",
   "metadata": {},
   "outputs": [],
   "source": [
    "def my_enumerate(sequence, start=0):\n",
    "    n = start\n",
    "    for elem in sequence:\n",
    "        yield n, elem\n",
    "        n += 1"
   ]
  },
  {
   "cell_type": "code",
   "execution_count": 22,
   "id": "5a59c4ab",
   "metadata": {},
   "outputs": [],
   "source": [
    "seasons = [\"Spring\", \"Summer\", \"Fall\", \"Winter\"]"
   ]
  },
  {
   "cell_type": "code",
   "execution_count": 23,
   "id": "c52c4fb4",
   "metadata": {},
   "outputs": [
    {
     "data": {
      "text/plain": [
       "<generator object my_enumerate at 0x000002892AF15BA0>"
      ]
     },
     "execution_count": 23,
     "metadata": {},
     "output_type": "execute_result"
    }
   ],
   "source": [
    "my_enumerate(seasons)"
   ]
  },
  {
   "cell_type": "code",
   "execution_count": 24,
   "id": "5f8a93df",
   "metadata": {},
   "outputs": [
    {
     "data": {
      "text/plain": [
       "[(0, 'Spring'), (1, 'Summer'), (2, 'Fall'), (3, 'Winter')]"
      ]
     },
     "execution_count": 24,
     "metadata": {},
     "output_type": "execute_result"
    }
   ],
   "source": [
    "list(my_enumerate(seasons))"
   ]
  },
  {
   "cell_type": "code",
   "execution_count": 25,
   "id": "68935a01",
   "metadata": {},
   "outputs": [
    {
     "data": {
      "text/plain": [
       "[(1, 'Spring'), (2, 'Summer'), (3, 'Fall'), (4, 'Winter')]"
      ]
     },
     "execution_count": 25,
     "metadata": {},
     "output_type": "execute_result"
    }
   ],
   "source": [
    "list(my_enumerate(seasons, start=1))"
   ]
  },
  {
   "cell_type": "markdown",
   "id": "4e414868",
   "metadata": {},
   "source": [
    "### Unpacking Arguments With enumerate()"
   ]
  },
  {
   "cell_type": "code",
   "execution_count": 26,
   "id": "1631f94f",
   "metadata": {},
   "outputs": [],
   "source": [
    "tuple_2 = (10, \"a\")"
   ]
  },
  {
   "cell_type": "code",
   "execution_count": 27,
   "id": "0cd12fc7",
   "metadata": {},
   "outputs": [],
   "source": [
    "first_elem, second_elem = tuple_2"
   ]
  },
  {
   "cell_type": "code",
   "execution_count": 28,
   "id": "07a30658",
   "metadata": {},
   "outputs": [
    {
     "data": {
      "text/plain": [
       "10"
      ]
     },
     "execution_count": 28,
     "metadata": {},
     "output_type": "execute_result"
    }
   ],
   "source": [
    "first_elem"
   ]
  },
  {
   "cell_type": "code",
   "execution_count": 29,
   "id": "e35e951d",
   "metadata": {},
   "outputs": [
    {
     "data": {
      "text/plain": [
       "'a'"
      ]
     },
     "execution_count": 29,
     "metadata": {},
     "output_type": "execute_result"
    }
   ],
   "source": [
    "second_elem"
   ]
  },
  {
   "cell_type": "code",
   "execution_count": 30,
   "id": "10fe29dc",
   "metadata": {},
   "outputs": [],
   "source": [
    "values = [\"a\", \"b\"]"
   ]
  },
  {
   "cell_type": "code",
   "execution_count": 31,
   "id": "82eee872",
   "metadata": {},
   "outputs": [],
   "source": [
    "enum_instance = enumerate(values)"
   ]
  },
  {
   "cell_type": "code",
   "execution_count": 32,
   "id": "2e6cf80f",
   "metadata": {},
   "outputs": [
    {
     "data": {
      "text/plain": [
       "<enumerate at 0x2892a7c3440>"
      ]
     },
     "execution_count": 32,
     "metadata": {},
     "output_type": "execute_result"
    }
   ],
   "source": [
    "enum_instance"
   ]
  },
  {
   "cell_type": "code",
   "execution_count": 33,
   "id": "879a7c3d",
   "metadata": {},
   "outputs": [
    {
     "data": {
      "text/plain": [
       "(0, 'a')"
      ]
     },
     "execution_count": 33,
     "metadata": {},
     "output_type": "execute_result"
    }
   ],
   "source": [
    "next(enum_instance)"
   ]
  },
  {
   "cell_type": "code",
   "execution_count": 34,
   "id": "19db5ce8",
   "metadata": {},
   "outputs": [
    {
     "data": {
      "text/plain": [
       "(1, 'b')"
      ]
     },
     "execution_count": 34,
     "metadata": {},
     "output_type": "execute_result"
    }
   ],
   "source": [
    "next(enum_instance)"
   ]
  },
  {
   "cell_type": "code",
   "execution_count": 35,
   "id": "1453b16b",
   "metadata": {},
   "outputs": [
    {
     "ename": "StopIteration",
     "evalue": "",
     "output_type": "error",
     "traceback": [
      "\u001b[1;31m---------------------------------------------------------------------------\u001b[0m",
      "\u001b[1;31mStopIteration\u001b[0m                             Traceback (most recent call last)",
      "\u001b[1;32m<ipython-input-35-9073f4b61d8b>\u001b[0m in \u001b[0;36m<module>\u001b[1;34m\u001b[0m\n\u001b[1;32m----> 1\u001b[1;33m \u001b[0mnext\u001b[0m\u001b[1;33m(\u001b[0m\u001b[0menum_instance\u001b[0m\u001b[1;33m)\u001b[0m\u001b[1;33m\u001b[0m\u001b[1;33m\u001b[0m\u001b[0m\n\u001b[0m",
      "\u001b[1;31mStopIteration\u001b[0m: "
     ]
    }
   ],
   "source": [
    "next(enum_instance)"
   ]
  },
  {
   "cell_type": "code",
   "execution_count": 36,
   "id": "78f2d240",
   "metadata": {},
   "outputs": [
    {
     "name": "stdout",
     "output_type": "stream",
     "text": [
      "a d g\n",
      "b e h\n",
      "c f i\n"
     ]
    }
   ],
   "source": [
    "first = [\"a\", \"b\", \"c\"]\n",
    "second = [\"d\", \"e\", \"f\"]\n",
    "third = [\"g\", \"h\", \"i\"]\n",
    "\n",
    "for one, two, three in zip(first, second, third):\n",
    "    print(one, two, three)"
   ]
  },
  {
   "cell_type": "code",
   "execution_count": 37,
   "id": "c0f8cb3b",
   "metadata": {},
   "outputs": [],
   "source": [
    "# On each iteration, \n",
    "# zip() returns a tuple that collects the elements \n",
    "# from all the sequences that were passed:"
   ]
  },
  {
   "cell_type": "markdown",
   "id": "62d9a47c",
   "metadata": {},
   "source": [
    "### You can combine zip() and enumerate() by using nested argument unpacking:"
   ]
  },
  {
   "cell_type": "code",
   "execution_count": 38,
   "id": "a564f9cf",
   "metadata": {},
   "outputs": [
    {
     "name": "stdout",
     "output_type": "stream",
     "text": [
      "0 a d g\n",
      "1 b e h\n",
      "2 c f i\n"
     ]
    }
   ],
   "source": [
    "for count, (one, two, three) in enumerate(zip(first, second, third)):\n",
    "    print(count, one, two, three)"
   ]
  },
  {
   "cell_type": "code",
   "execution_count": 39,
   "id": "8faf4aa1",
   "metadata": {},
   "outputs": [
    {
     "name": "stdout",
     "output_type": "stream",
     "text": [
      "0 a d g\n",
      "1 b e h\n",
      "2 c f i\n"
     ]
    }
   ],
   "source": [
    "# Another way\n",
    "\n",
    "import itertools\n",
    "\n",
    "for count, one, two, three in zip(itertools.count(), first, second, third):\n",
    "     print(count, one, two, three)"
   ]
  },
  {
   "cell_type": "code",
   "execution_count": null,
   "id": "3852f5df",
   "metadata": {},
   "outputs": [],
   "source": []
  }
 ],
 "metadata": {
  "kernelspec": {
   "display_name": "deepl_venv",
   "language": "python",
   "name": "deepl_venv"
  },
  "language_info": {
   "codemirror_mode": {
    "name": "ipython",
    "version": 3
   },
   "file_extension": ".py",
   "mimetype": "text/x-python",
   "name": "python",
   "nbconvert_exporter": "python",
   "pygments_lexer": "ipython3",
   "version": "3.9.5"
  }
 },
 "nbformat": 4,
 "nbformat_minor": 5
}
